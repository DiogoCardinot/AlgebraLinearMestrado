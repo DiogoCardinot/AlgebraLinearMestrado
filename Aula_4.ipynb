{
  "nbformat": 4,
  "nbformat_minor": 0,
  "metadata": {
    "colab": {
      "provenance": []
    },
    "kernelspec": {
      "name": "python3",
      "display_name": "Python 3"
    },
    "language_info": {
      "name": "python"
    }
  },
  "cells": [
    {
      "cell_type": "markdown",
      "source": [
        "# **Determinante**"
      ],
      "metadata": {
        "id": "or1BM5U_oU-0"
      }
    },
    {
      "cell_type": "code",
      "source": [
        "import numpy as np"
      ],
      "metadata": {
        "id": "26KI98wSsa8A"
      },
      "execution_count": null,
      "outputs": []
    },
    {
      "cell_type": "markdown",
      "source": [
        "## **Exemplo 1**"
      ],
      "metadata": {
        "id": "F1Q3wtgxuqaJ"
      }
    },
    {
      "cell_type": "code",
      "source": [
        "A=np.array([[2., 0.],\n",
        "         [0., 1.]])"
      ],
      "metadata": {
        "id": "YT4YzMDZup0S"
      },
      "execution_count": null,
      "outputs": []
    },
    {
      "cell_type": "code",
      "source": [
        "np.linalg.det(A)"
      ],
      "metadata": {
        "colab": {
          "base_uri": "https://localhost:8080/"
        },
        "id": "S8v5-btwwflX",
        "outputId": "df683ed5-cc02-4d10-fe02-919a7f31624c"
      },
      "execution_count": null,
      "outputs": [
        {
          "output_type": "execute_result",
          "data": {
            "text/plain": [
              "2.0"
            ]
          },
          "metadata": {},
          "execution_count": 3
        }
      ]
    },
    {
      "cell_type": "markdown",
      "source": [
        "## **Exemplo 2**"
      ],
      "metadata": {
        "id": "dICBo4CZuv-n"
      }
    },
    {
      "cell_type": "code",
      "execution_count": null,
      "metadata": {
        "id": "ZlLRWDM_oDkT"
      },
      "outputs": [],
      "source": [
        "B= np.array([[1., 2., 3.],\n",
        "           [3., 4., 4.],\n",
        "           [7., 8., 9.]])"
      ]
    },
    {
      "cell_type": "code",
      "source": [
        "np.linalg.det(B)"
      ],
      "metadata": {
        "colab": {
          "base_uri": "https://localhost:8080/"
        },
        "id": "7NGx0c9Ht2i6",
        "outputId": "08e9d79f-936c-442d-c6c0-8ef68b18dd8a"
      },
      "execution_count": null,
      "outputs": [
        {
          "output_type": "execute_result",
          "data": {
            "text/plain": [
              "-6.0"
            ]
          },
          "metadata": {},
          "execution_count": 5
        }
      ]
    },
    {
      "cell_type": "markdown",
      "source": [
        "# **Traço**\n",
        "\n",
        "Traço é a soma da diagonal principal de uma matriz."
      ],
      "metadata": {
        "id": "L_R6aJhJEuju"
      }
    },
    {
      "cell_type": "code",
      "source": [
        "E = np.array([[-1,2,0],[2,3,1],[1,2,-3]])"
      ],
      "metadata": {
        "id": "nvymQGA5E5aN"
      },
      "execution_count": null,
      "outputs": []
    },
    {
      "cell_type": "code",
      "source": [
        "np.trace(E)"
      ],
      "metadata": {
        "colab": {
          "base_uri": "https://localhost:8080/"
        },
        "id": "1mCP_-62E7WD",
        "outputId": "564553bc-fe7d-4236-d7d4-01fda8258021"
      },
      "execution_count": null,
      "outputs": [
        {
          "output_type": "execute_result",
          "data": {
            "text/plain": [
              "-1"
            ]
          },
          "metadata": {},
          "execution_count": 7
        }
      ]
    },
    {
      "cell_type": "markdown",
      "source": [
        "# **Inversa**"
      ],
      "metadata": {
        "id": "D7rnl6_Xw1HZ"
      }
    },
    {
      "cell_type": "markdown",
      "source": [
        "## **Exemplo 1**"
      ],
      "metadata": {
        "id": "xJVXzzF-yVxp"
      }
    },
    {
      "cell_type": "code",
      "source": [
        "C = np.array([[1,2],[3,4]])"
      ],
      "metadata": {
        "id": "1Q0bDURpybUw"
      },
      "execution_count": null,
      "outputs": []
    },
    {
      "cell_type": "code",
      "source": [
        "CI=np.linalg.inv(C)"
      ],
      "metadata": {
        "id": "5guSsmiz036e"
      },
      "execution_count": null,
      "outputs": []
    },
    {
      "cell_type": "code",
      "source": [
        "CI"
      ],
      "metadata": {
        "colab": {
          "base_uri": "https://localhost:8080/"
        },
        "id": "klUqYeYBJP4i",
        "outputId": "644977d9-2f8e-4720-ebd8-8178e878549b"
      },
      "execution_count": null,
      "outputs": [
        {
          "output_type": "execute_result",
          "data": {
            "text/plain": [
              "array([[-2. ,  1. ],\n",
              "       [ 1.5, -0.5]])"
            ]
          },
          "metadata": {},
          "execution_count": 10
        }
      ]
    },
    {
      "cell_type": "markdown",
      "source": [
        "## **Exemplo 2**"
      ],
      "metadata": {
        "id": "qjvt9nTZyI2Q"
      }
    },
    {
      "cell_type": "code",
      "source": [
        "D=np.array([[1., 5., 6.],\n",
        "         [2., 5., 8.],\n",
        "         [2., 5., 7.]])"
      ],
      "metadata": {
        "id": "5Dfvdm15yHPy"
      },
      "execution_count": null,
      "outputs": []
    },
    {
      "cell_type": "code",
      "source": [
        "DI=np.linalg.inv(D)"
      ],
      "metadata": {
        "id": "kvquUJ3Syzz7"
      },
      "execution_count": null,
      "outputs": []
    },
    {
      "cell_type": "code",
      "source": [
        "DI"
      ],
      "metadata": {
        "colab": {
          "base_uri": "https://localhost:8080/"
        },
        "id": "199B0ARJzPAh",
        "outputId": "919f54aa-10e2-4f72-b9a8-b7e04b83c468"
      },
      "execution_count": null,
      "outputs": [
        {
          "output_type": "execute_result",
          "data": {
            "text/plain": [
              "array([[-1. , -1. ,  2. ],\n",
              "       [ 0.4, -1. ,  0.8],\n",
              "       [-0. ,  1. , -1. ]])"
            ]
          },
          "metadata": {},
          "execution_count": 13
        }
      ]
    },
    {
      "cell_type": "markdown",
      "source": [
        "## **Exemplo 3**"
      ],
      "metadata": {
        "id": "IanB473rEh7q"
      }
    },
    {
      "cell_type": "code",
      "source": [
        "n = int(input('Informe a ordem da matriz:'))"
      ],
      "metadata": {
        "id": "JJjW611S41S3",
        "colab": {
          "base_uri": "https://localhost:8080/"
        },
        "outputId": "95d9a46c-3e89-4dee-897b-87f8b19f9f70"
      },
      "execution_count": null,
      "outputs": [
        {
          "name": "stdout",
          "output_type": "stream",
          "text": [
            "Informe a ordem da matriz:2\n"
          ]
        }
      ]
    },
    {
      "cell_type": "code",
      "source": [
        "M = np.empty([n,n], dtype = int)"
      ],
      "metadata": {
        "id": "cmsrRedZC52k"
      },
      "execution_count": null,
      "outputs": []
    },
    {
      "cell_type": "code",
      "source": [
        "for i in range(n):\n",
        "  for j in range(n):\n",
        "      M[i,j] = int(input('Elemento da Matriz B: linha {} e coluna {} é: ' ''.format(i + 1, j + 1)))"
      ],
      "metadata": {
        "id": "jnrkEwdy5Vva",
        "colab": {
          "base_uri": "https://localhost:8080/"
        },
        "outputId": "06a809d3-a861-441a-f238-7d1b504010ea"
      },
      "execution_count": null,
      "outputs": [
        {
          "name": "stdout",
          "output_type": "stream",
          "text": [
            "Elemento da Matriz B: linha 1 e coluna 1 é: 2\n",
            "Elemento da Matriz B: linha 1 e coluna 2 é: 3\n",
            "Elemento da Matriz B: linha 2 e coluna 1 é: 4\n",
            "Elemento da Matriz B: linha 2 e coluna 2 é: 5\n"
          ]
        }
      ]
    },
    {
      "cell_type": "code",
      "source": [
        "det = np.linalg.det(M)"
      ],
      "metadata": {
        "id": "HJ9mMRxz5el_"
      },
      "execution_count": null,
      "outputs": []
    },
    {
      "cell_type": "code",
      "source": [
        "det"
      ],
      "metadata": {
        "colab": {
          "base_uri": "https://localhost:8080/"
        },
        "id": "OoRwXrYwDFWU",
        "outputId": "8d9ff69d-5fd0-4e8a-9024-a8199d593833"
      },
      "execution_count": null,
      "outputs": [
        {
          "output_type": "execute_result",
          "data": {
            "text/plain": [
              "-2.0"
            ]
          },
          "metadata": {},
          "execution_count": 18
        }
      ]
    },
    {
      "cell_type": "code",
      "source": [
        "if det != 0:\n",
        "  matriz_inv = np.linalg.inv(M)\n",
        "  print('Matriz inversa')\n",
        "  print(matriz_inv)\n",
        "else:\n",
        "  print('A matriz não possui inversa!')"
      ],
      "metadata": {
        "id": "fdcerYAA5kkw",
        "colab": {
          "base_uri": "https://localhost:8080/"
        },
        "outputId": "dfff5fd8-daca-47e0-b974-bea7da25dfe9"
      },
      "execution_count": null,
      "outputs": [
        {
          "output_type": "stream",
          "name": "stdout",
          "text": [
            "Matriz inversa\n",
            "[[-2.5  1.5]\n",
            " [ 2.  -1. ]]\n"
          ]
        }
      ]
    },
    {
      "cell_type": "code",
      "source": [
        "np.matmul(M,matriz_inv)"
      ],
      "metadata": {
        "colab": {
          "base_uri": "https://localhost:8080/"
        },
        "id": "s4Tr5ltVCaZt",
        "outputId": "f7ea8aa1-dd9c-420f-d51b-1458c0b0ddfc"
      },
      "execution_count": null,
      "outputs": [
        {
          "output_type": "execute_result",
          "data": {
            "text/plain": [
              "array([[1., 0.],\n",
              "       [0., 1.]])"
            ]
          },
          "metadata": {},
          "execution_count": 20
        }
      ]
    },
    {
      "cell_type": "markdown",
      "source": [
        "# **Aplicações de Matrizes em Situações do Dia a Dia**"
      ],
      "metadata": {
        "id": "VLlSdhq_2H3t"
      }
    },
    {
      "cell_type": "code",
      "source": [
        "import matplotlib.pyplot as plt"
      ],
      "metadata": {
        "id": "TQBLfA6BGTxE"
      },
      "execution_count": null,
      "outputs": []
    },
    {
      "cell_type": "markdown",
      "source": [
        "## **Aplicação 1: Gestão Financeira de uma Empresa**"
      ],
      "metadata": {
        "id": "PYlqt4_Q2DJ6"
      }
    },
    {
      "cell_type": "markdown",
      "source": [
        "Uma empresa fabrica três produtos. Suas despesas de produção estão divididas em três categorias.\n",
        "\n",
        "Em cada uma dessas categorias, faz-se uma estimativa do custo de produção de um único exemplar de cada produto.\n",
        "\n",
        "Faz-se, também, uma estimativa da quantidade de cada produto a ser fabricado por trimestre.\n",
        "\n",
        "Essas estimativas são dadas na tabela 1 e na tabela 2. A empresa gostaria de apresentar a seus acionistas uma única tabela mostrando o custo total por trimestre de cada uma das três categorias: matéria- prima, pessoal e despesas gerais."
      ],
      "metadata": {
        "id": "FmRqgsdD2RnV"
      }
    },
    {
      "cell_type": "markdown",
      "source": [
        "Tabela 1. Custo de Produção por Item (em reais)\n",
        "\n"
      ],
      "metadata": {
        "id": "oEH3yp0D2uog"
      }
    },
    {
      "cell_type": "markdown",
      "source": [
        "![](https://drive.google.com/uc?exportview&id=169mvJiMXUVveTzw0_0vbYzSVIivbgPMc)\n"
      ],
      "metadata": {
        "id": "8K36_cq875Ah"
      }
    },
    {
      "cell_type": "code",
      "source": [
        "# definindo a matriz C baseada na tabela 1\n",
        "C = np.array([[0.10, 0.30, 0.15],\n",
        "              [0.30, 0.40, 0.25],\n",
        "              [0.10, 0.20, 0.15]])"
      ],
      "metadata": {
        "id": "L4hwJik34hOP"
      },
      "execution_count": null,
      "outputs": []
    },
    {
      "cell_type": "markdown",
      "source": [
        "Tabela 2. Quantidade Produzida por Trimestre"
      ],
      "metadata": {
        "id": "oLA60Ir2E3lC"
      }
    },
    {
      "cell_type": "markdown",
      "source": [
        "![](https://drive.google.com/uc?export=view&id=1NRGlp5W61m2ajWClpIKrZ9gPbdMx9fZP)"
      ],
      "metadata": {
        "id": "3SS6XpaFE5Re"
      }
    },
    {
      "cell_type": "code",
      "source": [
        "# definindo a matriz D baseado na tabela 2\n",
        "D = np.array([[4000, 4500, 4500, 4000],\n",
        "              [2000, 2600, 2400, 2200],\n",
        "              [5800, 6200, 6000, 6000]])"
      ],
      "metadata": {
        "id": "SVMM44LBDeYv"
      },
      "execution_count": null,
      "outputs": []
    },
    {
      "cell_type": "code",
      "source": [
        "# realizando a multiplicação da matriz C com a matriz D\n",
        "Custos = np.dot(C, D)"
      ],
      "metadata": {
        "id": "78yDH8sWFZw7"
      },
      "execution_count": null,
      "outputs": []
    },
    {
      "cell_type": "code",
      "source": [
        "Custos"
      ],
      "metadata": {
        "colab": {
          "base_uri": "https://localhost:8080/"
        },
        "id": "b_vaSk5XJ8Lu",
        "outputId": "f3d30b50-eedc-4301-cd67-5485b0eb4c6d"
      },
      "execution_count": null,
      "outputs": [
        {
          "output_type": "execute_result",
          "data": {
            "text/plain": [
              "array([[1870., 2160., 2070., 1960.],\n",
              "       [3450., 3940., 3810., 3580.],\n",
              "       [1670., 1900., 1830., 1740.]])"
            ]
          },
          "metadata": {},
          "execution_count": 25
        }
      ]
    },
    {
      "cell_type": "markdown",
      "source": [
        "![](https://drive.google.com/uc?export=view&id=1IL7vSBMhyC7vmbibjtTYynVOvg0vxt5D)"
      ],
      "metadata": {
        "id": "HEczAFTSFtwF"
      }
    },
    {
      "cell_type": "code",
      "source": [
        "# esquematizando as etiquetas do gráfico no eixo x\n",
        "Trimestres = ['Verão', 'Outono', 'Inverno', 'Primaveira']\n",
        "# definindo os valores gastos apenas na categoria Matéria-Prima\n",
        "MateriaPrima = Custos[0]\n",
        "# definindo os valores gastos apenas na categoria Pessoal\n",
        "Pessoal = Custos[1]\n",
        "# definindo os valores gastos apenas na categoria Despesas Gerais\n",
        "DespesasGerais = Custos[2]"
      ],
      "metadata": {
        "id": "9elvpNFuGGrr"
      },
      "execution_count": null,
      "outputs": []
    },
    {
      "cell_type": "code",
      "source": [
        "# definindo as dimensões do gráfico\n",
        "plt.figure(figsize=(12,8))\n",
        "# definindo a legenda do eixo x\n",
        "plt.xlabel('Trimestres')\n",
        "# definindo a legenda do eixo y\n",
        "plt.ylabel('Dinheiro(R$)')\n",
        "# plotando o gráfico para a categoria Matéria-Prima, com sua respectiva legenda\n",
        "plt.plot(Trimestres, MateriaPrima, label = 'Matéria-Prima')\n",
        "# plotando o gráfico para a categoria Pessoal, com sua respectiva legenda\n",
        "plt.plot(Trimestres, Pessoal, label = 'Pessoal')\n",
        "# plotando o gráfico para a categoria Despesas Gerais, com sua respectiva legenda\n",
        "plt.plot(Trimestres, DespesasGerais, label = 'Despesas Gerais')\n",
        "# chamando a legenda para ser exposta no gráfico\n",
        "plt.legend()\n",
        "# definindo um input diferente de 0 para entrada verdadeira na grade do gráfico\n",
        "plt.grid(True)\n",
        "# definindo o título do gráfico\n",
        "plt.title('Gráfico de Custos por Categoria em cada Trimestre')"
      ],
      "metadata": {
        "colab": {
          "base_uri": "https://localhost:8080/",
          "height": 736
        },
        "id": "wHnFwWuXGI4E",
        "outputId": "fff1eae1-6476-4385-ec60-fab3f2dbafbb"
      },
      "execution_count": null,
      "outputs": [
        {
          "output_type": "execute_result",
          "data": {
            "text/plain": [
              "Text(0.5, 1.0, 'Gráfico de Custos por Categoria em cada Trimestre')"
            ]
          },
          "metadata": {},
          "execution_count": 27
        },
        {
          "output_type": "display_data",
          "data": {
            "text/plain": [
              "<Figure size 1200x800 with 1 Axes>"
            ],
            "image/png": "[encoded data removed]"
          },
          "metadata": {}
        }
      ]
    },
    {
      "cell_type": "markdown",
      "source": [
        "## **Aplicação 2: Queimando calorias**\n",
        "Camila pesa 81 quilos (os dados são meramente ilustrativos...). Ela quer perder peso por meio de um progama de dieta e exercícios.\n",
        "\n",
        "Após consultar a tabela 1, ela monta o programa de exercícios na tabela 2.\n",
        "\n",
        "Quantas calorias ela vai queimar por dia se seguir esse progama?"
      ],
      "metadata": {
        "id": "RwwBkVJpHVI9"
      }
    },
    {
      "cell_type": "markdown",
      "source": [
        "Tabela 1. Calorias Queimadas por Hora\n",
        "\n",
        "*   **Atividades Esportivas**\n",
        "\n",
        "\n"
      ],
      "metadata": {
        "id": "FpYtAjO2H8BN"
      }
    },
    {
      "cell_type": "markdown",
      "source": [
        "![](https://drive.google.com/uc?export=view&id=1d5PBBl6IskgI3ojTW6G2bGVEQDbLaKmQ)"
      ],
      "metadata": {
        "id": "AZW8exAcHr80"
      }
    },
    {
      "cell_type": "code",
      "source": [
        "# definindo a matriz A a partir da tabela 1\n",
        "A = np.array([[213, 651, 304, 420],\n",
        "              [225, 688, 321, 441],\n",
        "              [237, 726, 338, 468],\n",
        "              [249, 764, 356, 492]])"
      ],
      "metadata": {
        "id": "9gmACJqHHa-7"
      },
      "execution_count": null,
      "outputs": []
    },
    {
      "cell_type": "markdown",
      "source": [
        "Tabela 2. Horas por Dia para Cada Atividade\n",
        "\n",
        "*   **Programa de Exercícios**\n",
        "\n",
        "\n"
      ],
      "metadata": {
        "id": "6Oqb7_qVIlmE"
      }
    },
    {
      "cell_type": "markdown",
      "source": [
        "![](https://drive.google.com/uc?export=view&id=1XgUeIC2ZGNZU9YZLRGZChoaSegbCr34k)"
      ],
      "metadata": {
        "id": "lmtby4bTISlK"
      }
    },
    {
      "cell_type": "code",
      "source": [
        "# definindo a matriz B a partir da tabela 2\n",
        "B = np.array([[1.0, 0.0, 1.0, 0.0],\n",
        "              [0.0, 0.0, 0.0, 2.0],\n",
        "              [0.4, 0.5, 0.0, 0.0],\n",
        "              [0.0, 0.0, 0.5, 2.0],\n",
        "              [0.4, 0.5, 0.0, 0.0]])"
      ],
      "metadata": {
        "id": "IFTqlqoNJhK7"
      },
      "execution_count": null,
      "outputs": []
    },
    {
      "cell_type": "markdown",
      "source": [
        "Solução:\n",
        "\n",
        "A informação pertinente para Camila está localizada na quarta linha da matriz A, pois são os dados referentes a quem pesa 81 quilos.\n",
        "\n",
        "Vamos criar uma nova matriz x do tipo **vetor-coluna** baseado nos dados contidos na **4º linha da matriz A**."
      ],
      "metadata": {
        "id": "8nUqhrrFIpo6"
      }
    },
    {
      "cell_type": "code",
      "source": [
        "# x recebe a quarta linha de A\n",
        "x = A[3]"
      ],
      "metadata": {
        "id": "yk35UV7HIunJ"
      },
      "execution_count": null,
      "outputs": []
    },
    {
      "cell_type": "code",
      "source": [
        "# x é transposta para se tornar um vetor-coluna\n",
        "x = np.transpose(x)"
      ],
      "metadata": {
        "id": "c32PzbdXI2SU"
      },
      "execution_count": null,
      "outputs": []
    },
    {
      "cell_type": "markdown",
      "source": [
        "Para resolver o problema, basta multiplicar a matriz $B_{5x4}$\n",
        " pela matriz $x_{4x1}$\n",
        "."
      ],
      "metadata": {
        "id": "Zg2s10KrI7Pl"
      }
    },
    {
      "cell_type": "code",
      "source": [
        "# realizando a multiplicação da matriz B com a matriz x\n",
        "Calorias = np.dot(B,x)"
      ],
      "metadata": {
        "id": "7Fwie3tNJGGX"
      },
      "execution_count": null,
      "outputs": []
    },
    {
      "cell_type": "code",
      "source": [
        "# imprimindo a matriz de calorias gastas por semana\n",
        "print(\"A matriz com valores de calorias gastas é:\\n\\n\", Calorias)"
      ],
      "metadata": {
        "colab": {
          "base_uri": "https://localhost:8080/"
        },
        "id": "oSeJMblaJKRy",
        "outputId": "dbea5bd9-0a80-4b05-84b8-67ceb3a57233"
      },
      "execution_count": null,
      "outputs": [
        {
          "output_type": "stream",
          "name": "stdout",
          "text": [
            "A matriz com valores de calorias gastas é:\n",
            "\n",
            " [ 605.   984.   481.6 1162.   481.6]\n"
          ]
        }
      ]
    },
    {
      "cell_type": "code",
      "source": [
        "# esquematizando as etiquetas do gráfico no eixo x\n",
        "DiasdaSemana = ['Segunda-feira', 'Terça-feira', 'Quarta-feira', 'Quinta-feira', 'Sexta-feira']"
      ],
      "metadata": {
        "id": "NdkNY6FDJOty"
      },
      "execution_count": null,
      "outputs": []
    },
    {
      "cell_type": "code",
      "source": [
        "# definindo as dimensões do gráfico\n",
        "plt.figure(figsize=(8,5))\n",
        "# definindo a legenda do eixo x\n",
        "plt.xlabel('Dias da Semana')\n",
        "# definindo as legendas do eixo y\n",
        "plt.ylabel('Calorias Gastas')\n",
        "# plotando o gráfico e definindo uma legenda\n",
        "plt.bar(DiasdaSemana, Calorias, label = 'Calorias Gastas/Dia')\n",
        "# chamando a legenda para ser exposta no gráfico\n",
        "plt.legend()\n",
        "# definindo um input diferente de 0 para entrada verdadeira na grade do gráfico\n",
        "plt.grid(True)\n",
        "# definindo o título do gráfico\n",
        "plt.title('Gráfico de Calorias Gastas por Camila')"
      ],
      "metadata": {
        "colab": {
          "base_uri": "https://localhost:8080/",
          "height": 505
        },
        "id": "z_0gjOxVJR5t",
        "outputId": "018a2165-6206-42d3-b6f9-0eb68f3bd3a5"
      },
      "execution_count": null,
      "outputs": [
        {
          "output_type": "execute_result",
          "data": {
            "text/plain": [
              "Text(0.5, 1.0, 'Gráfico de Calorias Gastas por Camila')"
            ]
          },
          "metadata": {},
          "execution_count": 35
        },
        {
          "output_type": "display_data",
          "data": {
            "text/plain": [
              "<Figure size 800x500 with 1 Axes>"
            ],
            "image/png": "[encoded data removed]"
          },
          "metadata": {}
        }
      ]
    },
    {
      "cell_type": "markdown",
      "source": [
        "# **Aplicação 3** - Treliça"
      ],
      "metadata": {
        "id": "uQvDxe-x60iu"
      }
    },
    {
      "cell_type": "markdown",
      "source": [
        "É possível aplicar sistema de equações em análise estrutural, a qual determina as forças nos membros de uma treliça utilizando o método dos nós e o método das seções.\n",
        "\n",
        "Treliças são estruturas esbeltas conectadas entre si nas extremidades e normalmente são usadas em construções tais como: pontes, telhados, viadutos e estruturas de maquinas."
      ],
      "metadata": {
        "id": "XQx3MiFB6whr"
      }
    },
    {
      "cell_type": "markdown",
      "source": [
        "\n",
        "![](https://drive.google.com/uc?export=view&id=1B7MKNsX2GjiQ8jJKqBooGw_a41gF4hBR)"
      ],
      "metadata": {
        "id": "Yck4ot-T7mxC"
      }
    },
    {
      "cell_type": "markdown",
      "source": [
        "$0,9231F_{AC} = 1690$\n",
        "\n",
        "$F_{AB} -0,7809F_{BC} = 0$;\n",
        "\n",
        "$F_{CD} +0,8575F_{DE} = 0$;\n",
        "\n",
        "$0,3846F_{CE} - 0,3846F_{AC} - 0,7809F_{BC} - F_{CD} = 0$;\n",
        "\n",
        "$0,9231F_{AC} +0,6247F_{BC} - 0,9231F_{CE} = 0$;\n",
        "\n",
        "$-F_{AB} -0,3846F_{AC} = 3625$;\n",
        "\n",
        "$0,6247F_{BC} -F_{BD} = 0$;\n",
        "\n",
        "$F_{BD} -0,5145F_{DE} -F_{DF} = 0$."
      ],
      "metadata": {
        "id": "aZ0MF1-X8NQ-"
      }
    },
    {
      "cell_type": "markdown",
      "source": [
        "\n",
        "![](https://drive.google.com/uc?export=view&id=1GlJ3MbANtry7HacBDgVeGOiZ72n-N59-)\n"
      ],
      "metadata": {
        "id": "alJxxukr9kp9"
      }
    },
    {
      "cell_type": "code",
      "source": [
        "T = np.array([[0,0.9231,0,0,0,0,0,0],\n",
        "              [-1,-0.3846,0,0,0,0,0,0],\n",
        "              [0,0,0,0,1,0,0.8575,0],\n",
        "              [1,0,-0.7809,0,0,0,0,0],\n",
        "              [0,-0.3846,-0.7809,0,-1,0.3846,0,0],\n",
        "              [0,0.9231,0.6247,0,0,-0.9231,0,0],\n",
        "              [0,0,0.6247,-1,0,0,0,0],\n",
        "              [0,0,0,1,0,0,-0.5145,-1]])"
      ],
      "metadata": {
        "id": "Qj7NkgJS6vyA"
      },
      "execution_count": null,
      "outputs": []
    },
    {
      "cell_type": "code",
      "source": [
        "TI = np.array([1690,3625,0,0,0,0,0,0])"
      ],
      "metadata": {
        "id": "FMQudvqk-97l"
      },
      "execution_count": null,
      "outputs": []
    },
    {
      "cell_type": "code",
      "source": [
        "np.linalg.solve(T,TI)"
      ],
      "metadata": {
        "colab": {
          "base_uri": "https://localhost:8080/"
        },
        "id": "WyITY1CI_J7D",
        "outputId": "7972a26c-1780-4773-e5bb-c34bd6465b6a"
      },
      "execution_count": null,
      "outputs": [
        {
          "output_type": "execute_result",
          "data": {
            "text/plain": [
              "array([-4329.12089698,  1830.78756364, -5543.75835187, -3463.18584242,\n",
              "        2886.22058824, -1920.9033067 , -3365.8549134 , -1731.45348947])"
            ]
          },
          "metadata": {},
          "execution_count": 38
        }
      ]
    }
  ]
}