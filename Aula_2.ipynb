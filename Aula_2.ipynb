{
  "cells": [
    {
      "cell_type": "code",
      "execution_count": 1,
      "metadata": {
        "id": "AyoGrL3a6ApI"
      },
      "outputs": [],
      "source": [
        "import numpy as np"
      ]
    },
    {
      "cell_type": "markdown",
      "metadata": {
        "id": "62siZLWJ53Pd"
      },
      "source": [
        "## **Matriz 2x5**"
      ]
    },
    {
      "cell_type": "code",
      "execution_count": 2,
      "metadata": {
        "id": "Aaw6xWIi4WIf"
      },
      "outputs": [],
      "source": [
        "MD = np.array([[1,2,3,4,5],[6,7,8,9,10]])   "
      ]
    },
    {
      "cell_type": "code",
      "execution_count": 3,
      "metadata": {
        "colab": {
          "base_uri": "https://localhost:8080/"
        },
        "id": "LceBCjdV6Dnz",
        "outputId": "6e888d9d-90ea-448d-c22b-eff5bd8cbaca"
      },
      "outputs": [
        {
          "name": "stdout",
          "output_type": "stream",
          "text": [
            "[[ 1  2  3  4  5]\n",
            " [ 6  7  8  9 10]]\n"
          ]
        }
      ],
      "source": [
        "print(\"{}\".format(MD))"
      ]
    },
    {
      "cell_type": "markdown",
      "metadata": {
        "id": "yBGRNH5P6UOZ"
      },
      "source": [
        "## **Matriz 3x5**"
      ]
    },
    {
      "cell_type": "code",
      "execution_count": 4,
      "metadata": {
        "id": "UGztsL8S6Y7i"
      },
      "outputs": [],
      "source": [
        "MT = np.array([[1,2,3,4,5],[6,7,8,9,10],[11,12,13,14,15]])"
      ]
    },
    {
      "cell_type": "code",
      "execution_count": 5,
      "metadata": {
        "colab": {
          "base_uri": "https://localhost:8080/"
        },
        "id": "e0QOAJRt6kHG",
        "outputId": "69298fe7-5d65-479a-b0d5-58b9ddcd2c77"
      },
      "outputs": [
        {
          "name": "stdout",
          "output_type": "stream",
          "text": [
            "[[ 1  2  3  4  5]\n",
            " [ 6  7  8  9 10]\n",
            " [11 12 13 14 15]]\n"
          ]
        }
      ],
      "source": [
        "print(\"{}\".format(MT))"
      ]
    },
    {
      "cell_type": "markdown",
      "metadata": {
        "id": "SZtSrW166n4F"
      },
      "source": [
        "## **Matriz Quadrada**"
      ]
    },
    {
      "cell_type": "code",
      "execution_count": 6,
      "metadata": {
        "id": "58V9dqru6ngV"
      },
      "outputs": [],
      "source": [
        "MQ= np.array([[1,2,3],[4,5,6],[7,8,9]])"
      ]
    },
    {
      "cell_type": "code",
      "execution_count": 7,
      "metadata": {
        "colab": {
          "base_uri": "https://localhost:8080/"
        },
        "id": "V-slvdpd61c8",
        "outputId": "096edffb-c640-4bd9-903a-18594bb5eb0e"
      },
      "outputs": [
        {
          "name": "stdout",
          "output_type": "stream",
          "text": [
            "[[1 2 3]\n",
            " [4 5 6]\n",
            " [7 8 9]]\n"
          ]
        }
      ],
      "source": [
        "print(\"{}\".format(MQ))"
      ]
    },
    {
      "cell_type": "markdown",
      "metadata": {
        "id": "_1rhj2IN69Lw"
      },
      "source": [
        "## **Matriz Identidade**"
      ]
    },
    {
      "cell_type": "code",
      "execution_count": 8,
      "metadata": {
        "id": "t-kBKum2686Y"
      },
      "outputs": [],
      "source": [
        "I = np.eye(4)"
      ]
    },
    {
      "cell_type": "code",
      "execution_count": 9,
      "metadata": {
        "colab": {
          "base_uri": "https://localhost:8080/"
        },
        "id": "NHo6aKvJ7DRL",
        "outputId": "2e606bac-934e-4f48-842a-3e708fdd6693"
      },
      "outputs": [
        {
          "name": "stdout",
          "output_type": "stream",
          "text": [
            "[[1. 0. 0. 0.]\n",
            " [0. 1. 0. 0.]\n",
            " [0. 0. 1. 0.]\n",
            " [0. 0. 0. 1.]]\n"
          ]
        }
      ],
      "source": [
        "print(\"{}\".format(I))"
      ]
    },
    {
      "cell_type": "markdown",
      "metadata": {
        "id": "HOMMqFJ07LkX"
      },
      "source": [
        "# **Operações com Matrizes**"
      ]
    },
    {
      "cell_type": "markdown",
      "metadata": {
        "id": "LahQDkM-7Pug"
      },
      "source": [
        "## **Soma Elemento a Elemento**"
      ]
    },
    {
      "cell_type": "code",
      "execution_count": 10,
      "metadata": {
        "id": "E_jspotH7PEG"
      },
      "outputs": [],
      "source": [
        "A = np.array([[1,2,3],[4,5,6],[7,8,9]])\n",
        "B = np.array([[-1,0,1],[0,1,1],[4,4,4]])"
      ]
    },
    {
      "cell_type": "code",
      "execution_count": 11,
      "metadata": {
        "id": "BhhomWaT7X8R"
      },
      "outputs": [],
      "source": [
        "S = A+B"
      ]
    },
    {
      "cell_type": "code",
      "execution_count": 12,
      "metadata": {
        "colab": {
          "base_uri": "https://localhost:8080/"
        },
        "id": "k0lt4wRR7b4L",
        "outputId": "91a37550-4427-488c-8d90-2b3819932e5a"
      },
      "outputs": [
        {
          "name": "stdout",
          "output_type": "stream",
          "text": [
            "[[ 0  2  4]\n",
            " [ 4  6  7]\n",
            " [11 12 13]]\n"
          ]
        }
      ],
      "source": [
        "print(\"{}\".format(S))"
      ]
    },
    {
      "cell_type": "markdown",
      "metadata": {
        "id": "NxQdYdC5h2AC"
      },
      "source": [
        "## **Soma Linha**"
      ]
    },
    {
      "cell_type": "code",
      "execution_count": null,
      "metadata": {
        "id": "6-vT5G3BdhM8"
      },
      "outputs": [],
      "source": [
        "A = np.array([[1,2,3],[4,5,6],[7,8,9]])"
      ]
    },
    {
      "cell_type": "code",
      "execution_count": 13,
      "metadata": {
        "colab": {
          "base_uri": "https://localhost:8080/"
        },
        "id": "_kiIjewSh6yr",
        "outputId": "0ab2e65c-ccbc-4bac-f4f3-611312178897"
      },
      "outputs": [
        {
          "data": {
            "text/plain": [
              "array([ 6, 15, 24])"
            ]
          },
          "execution_count": 13,
          "metadata": {},
          "output_type": "execute_result"
        }
      ],
      "source": [
        "A.sum(axis = 1)"
      ]
    },
    {
      "cell_type": "markdown",
      "metadata": {
        "id": "qxxPuIYziAfb"
      },
      "source": [
        "## **Soma Coluna**"
      ]
    },
    {
      "cell_type": "code",
      "execution_count": 14,
      "metadata": {
        "colab": {
          "base_uri": "https://localhost:8080/"
        },
        "id": "pM59z3GViENT",
        "outputId": "f6f189b2-d254-41ef-8fa1-ab5329da6ec6"
      },
      "outputs": [
        {
          "data": {
            "text/plain": [
              "array([12, 15, 18])"
            ]
          },
          "execution_count": 14,
          "metadata": {},
          "output_type": "execute_result"
        }
      ],
      "source": [
        "A.sum(axis = 0)"
      ]
    },
    {
      "cell_type": "markdown",
      "metadata": {
        "id": "yVguVLQAXFyw"
      },
      "source": [
        "## **Subtração de elemento a elemento**"
      ]
    },
    {
      "cell_type": "code",
      "execution_count": 15,
      "metadata": {
        "id": "4WoGyz8bXJX1"
      },
      "outputs": [],
      "source": [
        "SB1=A-B"
      ]
    },
    {
      "cell_type": "code",
      "execution_count": null,
      "metadata": {
        "colab": {
          "base_uri": "https://localhost:8080/"
        },
        "id": "_kEXyqbcXQf9",
        "outputId": "c12119b8-8514-43b1-cf20-1b013c636bc0"
      },
      "outputs": [
        {
          "name": "stdout",
          "output_type": "stream",
          "text": [
            "[[2 2 2]\n",
            " [4 4 5]\n",
            " [3 4 5]]\n"
          ]
        }
      ],
      "source": [
        "print(\"{}\".format(SB1))"
      ]
    },
    {
      "cell_type": "code",
      "execution_count": 16,
      "metadata": {
        "id": "TwlE43FXXZGe"
      },
      "outputs": [],
      "source": [
        "SB2=B-A"
      ]
    },
    {
      "cell_type": "code",
      "execution_count": 17,
      "metadata": {
        "colab": {
          "base_uri": "https://localhost:8080/"
        },
        "id": "FCmKEfuUXeH2",
        "outputId": "c7ddf072-db63-4b53-cf29-57971c2d2e21"
      },
      "outputs": [
        {
          "name": "stdout",
          "output_type": "stream",
          "text": [
            "[[-2 -2 -2]\n",
            " [-4 -4 -5]\n",
            " [-3 -4 -5]]\n"
          ]
        }
      ],
      "source": [
        "print(\"{}\".format(SB2))"
      ]
    },
    {
      "cell_type": "markdown",
      "metadata": {
        "id": "dy0dGTErezmE"
      },
      "source": [
        "### **Multiplicação por Escalar**"
      ]
    },
    {
      "cell_type": "code",
      "execution_count": null,
      "metadata": {
        "colab": {
          "base_uri": "https://localhost:8080/"
        },
        "id": "khQ4YhfAe27V",
        "outputId": "9cac0ae5-26dc-456f-e821-b4b15fee513b"
      },
      "outputs": [
        {
          "data": {
            "text/plain": [
              "array([[ 2,  4, 14],\n",
              "       [ 6, 12, 14],\n",
              "       [16, 18,  0]])"
            ]
          },
          "execution_count": 43,
          "metadata": {},
          "output_type": "execute_result"
        }
      ],
      "source": [
        "k=2\n",
        "A*k"
      ]
    },
    {
      "cell_type": "markdown",
      "metadata": {
        "id": "B8xvLfybYJyr"
      },
      "source": [
        "## **Multiplicação elemento a elemento**"
      ]
    },
    {
      "cell_type": "code",
      "execution_count": 18,
      "metadata": {
        "colab": {
          "base_uri": "https://localhost:8080/"
        },
        "id": "8tI7gI_kYR2Z",
        "outputId": "3e8465b8-ba12-4110-d8ff-a58352dcd34f"
      },
      "outputs": [
        {
          "data": {
            "text/plain": [
              "array([[-1,  0,  3],\n",
              "       [ 0,  5,  6],\n",
              "       [28, 32, 36]])"
            ]
          },
          "execution_count": 18,
          "metadata": {},
          "output_type": "execute_result"
        }
      ],
      "source": [
        "A*B"
      ]
    },
    {
      "cell_type": "markdown",
      "metadata": {
        "id": "CO5DruQnYtlg"
      },
      "source": [
        "## **Transposta**"
      ]
    },
    {
      "cell_type": "code",
      "execution_count": 19,
      "metadata": {
        "id": "yszc-VmwYwI2"
      },
      "outputs": [],
      "source": [
        "AT = A.T"
      ]
    },
    {
      "cell_type": "code",
      "execution_count": 20,
      "metadata": {
        "colab": {
          "base_uri": "https://localhost:8080/"
        },
        "id": "Zzfq8tqwY7Wp",
        "outputId": "c43d6ec0-fb2f-4148-eaa9-57f38515df6e"
      },
      "outputs": [
        {
          "name": "stdout",
          "output_type": "stream",
          "text": [
            "[[1 4 7]\n",
            " [2 5 8]\n",
            " [3 6 9]]\n"
          ]
        }
      ],
      "source": [
        "print(\"{}\".format(AT))"
      ]
    },
    {
      "cell_type": "code",
      "execution_count": null,
      "metadata": {
        "colab": {
          "base_uri": "https://localhost:8080/"
        },
        "id": "gmckmYizZAJQ",
        "outputId": "ee2e2ad4-fae1-4caf-b0f6-245ccab5ea31"
      },
      "outputs": [
        {
          "data": {
            "text/plain": [
              "array([[1, 2, 3],\n",
              "       [4, 5, 6],\n",
              "       [7, 8, 9]])"
            ]
          },
          "execution_count": 29,
          "metadata": {},
          "output_type": "execute_result"
        }
      ],
      "source": [
        "AT.T"
      ]
    },
    {
      "cell_type": "markdown",
      "metadata": {
        "id": "GYMSvTl7ktXw"
      },
      "source": [
        "## **Potência**"
      ]
    },
    {
      "cell_type": "code",
      "execution_count": 21,
      "metadata": {
        "colab": {
          "base_uri": "https://localhost:8080/"
        },
        "id": "rLlXCGobksyN",
        "outputId": "143a9ee7-c215-4fb7-b7b6-257aab7ad8c0"
      },
      "outputs": [
        {
          "data": {
            "text/plain": [
              "array([[    1,    32,   243],\n",
              "       [ 1024,  3125,  7776],\n",
              "       [16807, 32768, 59049]], dtype=int32)"
            ]
          },
          "execution_count": 21,
          "metadata": {},
          "output_type": "execute_result"
        }
      ],
      "source": [
        "A**5"
      ]
    },
    {
      "cell_type": "markdown",
      "metadata": {
        "id": "09TsMIFWXiYH"
      },
      "source": [
        "## **As operações acima podem ser resolvidas utilizando o numpy**"
      ]
    },
    {
      "cell_type": "markdown",
      "metadata": {
        "id": "_60iznzFXxj1"
      },
      "source": [
        "### **Soma de elemento a elemento**"
      ]
    },
    {
      "cell_type": "code",
      "execution_count": 22,
      "metadata": {
        "colab": {
          "base_uri": "https://localhost:8080/"
        },
        "id": "8SgoFPKXYE0x",
        "outputId": "3c1f6c29-9a75-4092-fea2-f591d3a0dad8"
      },
      "outputs": [
        {
          "data": {
            "text/plain": [
              "array([[ 0.,  2.,  4.],\n",
              "       [ 4.,  6.,  7.],\n",
              "       [11., 12., 13.]], dtype=float16)"
            ]
          },
          "execution_count": 22,
          "metadata": {},
          "output_type": "execute_result"
        }
      ],
      "source": [
        "np.add(A,B, dtype = np.float16)"
      ]
    },
    {
      "cell_type": "markdown",
      "metadata": {
        "id": "h2WA2gdAZhpE"
      },
      "source": [
        "### **Subtração de elemento a elemento**"
      ]
    },
    {
      "cell_type": "code",
      "execution_count": 23,
      "metadata": {
        "colab": {
          "base_uri": "https://localhost:8080/"
        },
        "id": "87bHJAlsZiKn",
        "outputId": "da7f46f1-89ec-4ac5-9563-b79a811fdaf9"
      },
      "outputs": [
        {
          "data": {
            "text/plain": [
              "array([[2, 2, 2],\n",
              "       [4, 4, 5],\n",
              "       [3, 4, 5]])"
            ]
          },
          "execution_count": 23,
          "metadata": {},
          "output_type": "execute_result"
        }
      ],
      "source": [
        "np.subtract(A,B, dtype = np.int32)"
      ]
    },
    {
      "cell_type": "markdown",
      "metadata": {
        "id": "QGfueUEeXsk9"
      },
      "source": [
        "### **Multiplicação de elemento a elemento**"
      ]
    },
    {
      "cell_type": "code",
      "execution_count": 24,
      "metadata": {
        "colab": {
          "base_uri": "https://localhost:8080/"
        },
        "id": "4L2b0KHdXeCT",
        "outputId": "ec46a71d-b854-4e95-be68-8fb0f16e474f"
      },
      "outputs": [
        {
          "data": {
            "text/plain": [
              "array([[-1.,  0.,  3.],\n",
              "       [ 0.,  5.,  6.],\n",
              "       [28., 32., 36.]])"
            ]
          },
          "execution_count": 24,
          "metadata": {},
          "output_type": "execute_result"
        }
      ],
      "source": [
        "np.multiply(A,B, dtype = float)"
      ]
    },
    {
      "cell_type": "markdown",
      "metadata": {
        "id": "A1gxVpImaNbY"
      },
      "source": [
        "### **Transposta**"
      ]
    },
    {
      "cell_type": "code",
      "execution_count": 25,
      "metadata": {
        "colab": {
          "base_uri": "https://localhost:8080/"
        },
        "id": "RN0pCtVcaRoI",
        "outputId": "8f41ff66-e367-4cb9-df57-73b7d7046388"
      },
      "outputs": [
        {
          "data": {
            "text/plain": [
              "array([[1, 4, 7],\n",
              "       [2, 5, 8],\n",
              "       [3, 6, 9]])"
            ]
          },
          "execution_count": 25,
          "metadata": {},
          "output_type": "execute_result"
        }
      ],
      "source": [
        "np.transpose(A)"
      ]
    },
    {
      "cell_type": "code",
      "execution_count": 26,
      "metadata": {
        "id": "FKRPCLdxaLPa"
      },
      "outputs": [],
      "source": [
        "A = np.array([[1,2,3],[4,5,6]])\n",
        "B = np.array([[1],[1],[1]])"
      ]
    },
    {
      "cell_type": "markdown",
      "metadata": {
        "id": "HAsqCtk9ap7O"
      },
      "source": [
        "### **Multiplicação matricial linha x coluna**"
      ]
    },
    {
      "cell_type": "code",
      "execution_count": 27,
      "metadata": {
        "colab": {
          "base_uri": "https://localhost:8080/"
        },
        "id": "CLBiyx3yaqUz",
        "outputId": "1359ff45-f935-4316-f785-df55786a7ab1"
      },
      "outputs": [
        {
          "data": {
            "text/plain": [
              "array([[ 6],\n",
              "       [15]])"
            ]
          },
          "execution_count": 27,
          "metadata": {},
          "output_type": "execute_result"
        }
      ],
      "source": [
        "np.matmul(A,B)"
      ]
    },
    {
      "cell_type": "markdown",
      "metadata": {
        "id": "9BPn9kPPbwt8"
      },
      "source": [
        "Observe que o contrário não está definido, devido ao número de linhas e colunas"
      ]
    },
    {
      "cell_type": "code",
      "execution_count": 28,
      "metadata": {
        "colab": {
          "base_uri": "https://localhost:8080/",
          "height": 141
        },
        "id": "0VJu0FYRbuMG",
        "outputId": "445f4b5b-88ca-4432-e31f-90f00b6e2921"
      },
      "outputs": [
        {
          "ename": "ValueError",
          "evalue": "matmul: Input operand 1 has a mismatch in its core dimension 0, with gufunc signature (n?,k),(k,m?)->(n?,m?) (size 2 is different from 1)",
          "output_type": "error",
          "traceback": [
            "\u001b[1;31m---------------------------------------------------------------------------\u001b[0m",
            "\u001b[1;31mValueError\u001b[0m                                Traceback (most recent call last)",
            "Cell \u001b[1;32mIn[28], line 1\u001b[0m\n\u001b[1;32m----> 1\u001b[0m \u001b[43mnp\u001b[49m\u001b[38;5;241;43m.\u001b[39;49m\u001b[43mmatmul\u001b[49m\u001b[43m(\u001b[49m\u001b[43mB\u001b[49m\u001b[43m,\u001b[49m\u001b[43mA\u001b[49m\u001b[43m)\u001b[49m\n",
            "\u001b[1;31mValueError\u001b[0m: matmul: Input operand 1 has a mismatch in its core dimension 0, with gufunc signature (n?,k),(k,m?)->(n?,m?) (size 2 is different from 1)"
          ]
        }
      ],
      "source": [
        "np.matmul(B,A)"
      ]
    },
    {
      "cell_type": "markdown",
      "metadata": {
        "id": "H5xrAbLKcpSf"
      },
      "source": [
        "Outra forma de realizar multiplicação matricial linha x coluna"
      ]
    },
    {
      "cell_type": "code",
      "execution_count": 29,
      "metadata": {
        "colab": {
          "base_uri": "https://localhost:8080/"
        },
        "id": "2s18KCE3cmEX",
        "outputId": "94d88d91-7fc4-4d19-baf9-4c46649a5c58"
      },
      "outputs": [
        {
          "data": {
            "text/plain": [
              "array([[ 6],\n",
              "       [15]])"
            ]
          },
          "execution_count": 29,
          "metadata": {},
          "output_type": "execute_result"
        }
      ],
      "source": [
        "np.dot(A,B)"
      ]
    },
    {
      "cell_type": "markdown",
      "metadata": {
        "id": "NWsDg1EJc9jd"
      },
      "source": [
        "### **Elevando os elementos da matriz a uma potência n**\n",
        "\n"
      ]
    },
    {
      "cell_type": "markdown",
      "metadata": {
        "id": "OtlMMVDEeS54"
      },
      "source": [
        "Para inteiros positivos n, a potência é calculada por quadraturas e multiplicações de matrizes repetidas.\n",
        "\n",
        "Se n == 0, a matriz identidade da mesma forma que M é retornada.\n",
        "\n",
        "Se n < 0, o inverso é calculado e então elevado ao abs(n)."
      ]
    },
    {
      "cell_type": "code",
      "execution_count": 30,
      "metadata": {
        "id": "NhKdYxV-dPuf"
      },
      "outputs": [],
      "source": [
        "A = np.array([[1,2,7],[3,6,7],[8,9,0]])"
      ]
    },
    {
      "cell_type": "code",
      "execution_count": 31,
      "metadata": {
        "colab": {
          "base_uri": "https://localhost:8080/"
        },
        "id": "VNZhY3FYc92j",
        "outputId": "785730e7-8ff3-45cc-af84-a4012ee43664"
      },
      "outputs": [
        {
          "data": {
            "text/plain": [
              "array([[123235, 185759, 175273],\n",
              "       [205065, 300027, 255535],\n",
              "       [221333, 307524, 210945]])"
            ]
          },
          "execution_count": 31,
          "metadata": {},
          "output_type": "execute_result"
        }
      ],
      "source": [
        "np.linalg.matrix_power(A,5)"
      ]
    },
    {
      "cell_type": "markdown",
      "metadata": {
        "id": "EHu0qNzGfph3"
      },
      "source": [
        "### **Ler matriz do teclado**"
      ]
    },
    {
      "cell_type": "markdown",
      "metadata": {
        "id": "JH780QL5gc_T"
      },
      "source": [
        "Primeiro indicar o número de linhas e colunas"
      ]
    },
    {
      "cell_type": "code",
      "execution_count": 32,
      "metadata": {
        "colab": {
          "base_uri": "https://localhost:8080/"
        },
        "id": "M8lnITVtfo23",
        "outputId": "76dcb5ef-0783-455e-9254-f513e1815f50"
      },
      "outputs": [],
      "source": [
        "# recebe a quantidade de linhas da matriz\n",
        "linha = int(input(\"Informe quantas linhas tem sua matriz: \"))\n",
        "# recebe a quantidade de colunas da matriz\n",
        "coluna = int(input(\"Informe quantas colunas tem sua matriz: \"))"
      ]
    },
    {
      "cell_type": "markdown",
      "metadata": {
        "id": "mIbcz9ibgfdY"
      },
      "source": [
        "Iniciando uma matriz de números reais com linhas e colunas definidas"
      ]
    },
    {
      "cell_type": "code",
      "execution_count": 33,
      "metadata": {
        "id": "AHYCjIclf3wt"
      },
      "outputs": [],
      "source": [
        "A = np.empty([linha,coluna], dtype = float)"
      ]
    },
    {
      "cell_type": "markdown",
      "metadata": {
        "id": "sCXnhclhgjv3"
      },
      "source": [
        "Recebe os elementos da matriz digitados pelo teclado"
      ]
    },
    {
      "cell_type": "code",
      "execution_count": null,
      "metadata": {
        "colab": {
          "base_uri": "https://localhost:8080/"
        },
        "id": "MA0xTXHdf8IY",
        "outputId": "5f5ca6e3-5e09-4be9-84dd-fed934dcf8bf"
      },
      "outputs": [
        {
          "name": "stdout",
          "output_type": "stream",
          "text": [
            "Insira o elemento [1][1] da matriz: 2\n",
            "Insira o elemento [1][2] da matriz: 4\n",
            "Insira o elemento [2][1] da matriz: 5\n",
            "Insira o elemento [2][2] da matriz: 6\n"
          ]
        }
      ],
      "source": [
        "for i in range(0, linha):\n",
        "    for j in range(0, coluna):\n",
        "        A[i][j] = float(input(\"Insira o elemento [{}][{}] da matriz: \".format(i + 1,j + 1)))"
      ]
    },
    {
      "cell_type": "markdown",
      "metadata": {
        "id": "lMIjiD3Bgt-d"
      },
      "source": [
        "Imprime na tela a matriz original"
      ]
    },
    {
      "cell_type": "code",
      "execution_count": 34,
      "metadata": {
        "colab": {
          "base_uri": "https://localhost:8080/"
        },
        "id": "thK9Ln8_gJKh",
        "outputId": "e8761a5c-404a-486d-a299-65be2b261468"
      },
      "outputs": [
        {
          "name": "stdout",
          "output_type": "stream",
          "text": [
            "\n",
            "\n",
            "A matriz digitada é:\n",
            "\n",
            "[[1.27385046e-311 1.27381328e-311 0.00000000e+000 6.95223623e-310\n",
            "  2.71736105e-322 1.27398430e-311 1.27398430e-311 1.27398428e-311\n",
            "  1.27398430e-311 1.27398430e-311 1.27398428e-311 1.27398428e-311]\n",
            " [1.27398430e-311 1.27398430e-311 1.27398430e-311 1.27398430e-311\n",
            "  1.27398430e-311 1.27398428e-311 1.27398430e-311 1.27398428e-311\n",
            "  1.27398428e-311 1.27398430e-311 1.27398428e-311 1.27398430e-311]\n",
            " [1.27398430e-311 1.27398428e-311 1.27398430e-311 1.27398428e-311\n",
            "  1.27398428e-311 1.27398430e-311 1.27398430e-311 1.27398428e-311\n",
            "  1.27398430e-311 1.27398428e-311 1.27398430e-311 1.27398430e-311]\n",
            " [1.27398430e-311 1.27398430e-311 1.27398430e-311 1.27398428e-311\n",
            "  1.27398430e-311 1.27398430e-311 1.27398430e-311 1.27398430e-311\n",
            "  1.27398430e-311 1.27398430e-311 1.27398430e-311 1.27398430e-311]\n",
            " [1.27398428e-311 1.27398428e-311 1.27398428e-311 1.27398430e-311\n",
            "  1.27398428e-311 1.27398430e-311 1.27398430e-311 1.27398430e-311\n",
            "  1.27398430e-311 1.27398430e-311 1.27398430e-311 1.27398428e-311]]\n",
            "\n",
            "\n"
          ]
        }
      ],
      "source": [
        "print(\"\\n\\nA matriz digitada é:\\n\\n{}\\n\\n\".format(A))"
      ]
    },
    {
      "cell_type": "code",
      "execution_count": null,
      "metadata": {},
      "outputs": [],
      "source": []
    }
  ],
  "metadata": {
    "colab": {
      "provenance": []
    },
    "kernelspec": {
      "display_name": "Python 3",
      "name": "python3"
    },
    "language_info": {
      "codemirror_mode": {
        "name": "ipython",
        "version": 3
      },
      "file_extension": ".py",
      "mimetype": "text/x-python",
      "name": "python",
      "nbconvert_exporter": "python",
      "pygments_lexer": "ipython3",
      "version": "3.11.4"
    }
  },
  "nbformat": 4,
  "nbformat_minor": 0
}
